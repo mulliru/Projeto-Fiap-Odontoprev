{
  "nbformat": 4,
  "nbformat_minor": 0,
  "metadata": {
    "colab": {
      "provenance": []
    },
    "kernelspec": {
      "name": "python3",
      "display_name": "Python 3"
    },
    "language_info": {
      "name": "python"
    }
  },
  "cells": [
    {
      "cell_type": "markdown",
      "source": [
        "# Classificação de Imagens Dentárias - Panoramic Dental Dataset\n",
        "Este projeto utiliza o dataset Panoramic Dental Dataset  para carregar, pré-processar, treinar e avaliar um modelo de classificação de imagens dentárias usando convolução neural (CNN). Abaixo está uma descrição detalhada de cada etapa do processo e o código correspondente.\n",
        "\n",
        "\n"
      ],
      "metadata": {
        "id": "CAWyOkpF009j"
      }
    },
    {
      "cell_type": "markdown",
      "source": [
        "\n",
        "\n",
        "*  Aqui estamos apenas fazendo alguns testes com kaggle para ver se está funcionando\n"
      ],
      "metadata": {
        "id": "ecwGvlht1W_j"
      }
    },
    {
      "cell_type": "code",
      "execution_count": null,
      "metadata": {
        "id": "I7zGNEiCt_L8",
        "colab": {
          "base_uri": "https://localhost:8080/"
        },
        "outputId": "4faa70b2-a569-469b-a0ab-00d0527f9987"
      },
      "outputs": [
        {
          "output_type": "stream",
          "name": "stdout",
          "text": [
            "cp: cannot stat 'kaggle.json': No such file or directory\n",
            "chmod: cannot access '/root/.kaggle/kaggle.json': No such file or directory\n"
          ]
        }
      ],
      "source": [
        "\n",
        "#configurando a autenticação para conseguir acessar o kaggle\n",
        "!mkdir -p ~/.kaggle\n",
        "!cp kaggle.json ~/.kaggle/\n",
        "!chmod 600 ~/.kaggle/kaggle.json\n"
      ]
    },
    {
      "cell_type": "code",
      "source": [
        "# confirmar se está funcionando o kaggle\n",
        "!kaggle datasets list\n"
      ],
      "metadata": {
        "id": "F4sTIAebxCIy",
        "colab": {
          "base_uri": "https://localhost:8080/"
        },
        "outputId": "527054c7-3219-4ebb-e69b-00a59445954a"
      },
      "execution_count": null,
      "outputs": [
        {
          "output_type": "stream",
          "name": "stdout",
          "text": [
            "Traceback (most recent call last):\n",
            "  File \"/usr/local/bin/kaggle\", line 5, in <module>\n",
            "    from kaggle.cli import main\n",
            "  File \"/usr/local/lib/python3.10/dist-packages/kaggle/__init__.py\", line 7, in <module>\n",
            "    api.authenticate()\n",
            "  File \"/usr/local/lib/python3.10/dist-packages/kaggle/api/kaggle_api_extended.py\", line 407, in authenticate\n",
            "    raise IOError('Could not find {}. Make sure it\\'s located in'\n",
            "OSError: Could not find kaggle.json. Make sure it's located in /root/.kaggle. Or use the environment method. See setup instructions at https://github.com/Kaggle/kaggle-api/\n"
          ]
        }
      ]
    },
    {
      "cell_type": "code",
      "source": [
        "#baixando dataset\n",
        "!kaggle datasets download thunderpede/panoramic-dental-dataset\n"
      ],
      "metadata": {
        "id": "UJxrblrWxORL",
        "colab": {
          "base_uri": "https://localhost:8080/"
        },
        "outputId": "ed8e805a-e4ec-4f7f-8ec5-6401c7e5e312"
      },
      "execution_count": null,
      "outputs": [
        {
          "output_type": "stream",
          "name": "stdout",
          "text": [
            "Dataset URL: https://www.kaggle.com/datasets/thunderpede/panoramic-dental-dataset\n",
            "License(s): other\n",
            "Downloading panoramic-dental-dataset.zip to /content\n",
            " 92% 225M/244M [00:02<00:00, 87.2MB/s]\n",
            "100% 244M/244M [00:02<00:00, 85.8MB/s]\n"
          ]
        }
      ]
    },
    {
      "cell_type": "code",
      "source": [
        "#descompactando dataset\n",
        "!unzip panoramic-dental-dataset.zip -d ./datasets\n"
      ],
      "metadata": {
        "colab": {
          "base_uri": "https://localhost:8080/"
        },
        "id": "xPDtBj4BxSub",
        "outputId": "ed715439-eab0-4cfb-97ed-8a9a6f9ea9bd",
        "collapsed": true
      },
      "execution_count": null,
      "outputs": [
        {
          "output_type": "stream",
          "name": "stdout",
          "text": [
            "Archive:  panoramic-dental-dataset.zip\n",
            "  inflating: ./datasets/annotations/bboxes_caries/1008.txt  \n",
            "  inflating: ./datasets/annotations/bboxes_caries/1009.txt  \n",
            "  inflating: ./datasets/annotations/bboxes_caries/1016.txt  \n",
            "  inflating: ./datasets/annotations/bboxes_caries/1018.txt  \n",
            "  inflating: ./datasets/annotations/bboxes_caries/1026.txt  \n",
            "  inflating: ./datasets/annotations/bboxes_caries/1033.txt  \n",
            "  inflating: ./datasets/annotations/bboxes_caries/1042.txt  \n",
            "  inflating: ./datasets/annotations/bboxes_caries/1050.txt  \n",
            "  inflating: ./datasets/annotations/bboxes_caries/1058.txt  \n",
            "  inflating: ./datasets/annotations/bboxes_caries/1067.txt  \n",
            "  inflating: ./datasets/annotations/bboxes_caries/1074.txt  \n",
            "  inflating: ./datasets/annotations/bboxes_caries/1080.txt  \n",
            "  inflating: ./datasets/annotations/bboxes_caries/1083.txt  \n",
            "  inflating: ./datasets/annotations/bboxes_caries/1088.txt  \n",
            "  inflating: ./datasets/annotations/bboxes_caries/1090.txt  \n",
            "  inflating: ./datasets/annotations/bboxes_caries/1091.txt  \n",
            "  inflating: ./datasets/annotations/bboxes_caries/1092.txt  \n",
            "  inflating: ./datasets/annotations/bboxes_caries/1096.txt  \n",
            "  inflating: ./datasets/annotations/bboxes_caries/306.txt  \n",
            "  inflating: ./datasets/annotations/bboxes_caries/310.txt  \n",
            "  inflating: ./datasets/annotations/bboxes_caries/318.txt  \n",
            "  inflating: ./datasets/annotations/bboxes_caries/323.txt  \n",
            "  inflating: ./datasets/annotations/bboxes_caries/347.txt  \n",
            "  inflating: ./datasets/annotations/bboxes_caries/350.txt  \n",
            "  inflating: ./datasets/annotations/bboxes_caries/354.txt  \n",
            "  inflating: ./datasets/annotations/bboxes_caries/360.txt  \n",
            "  inflating: ./datasets/annotations/bboxes_caries/365.txt  \n",
            "  inflating: ./datasets/annotations/bboxes_caries/367.txt  \n",
            "  inflating: ./datasets/annotations/bboxes_caries/369.txt  \n",
            "  inflating: ./datasets/annotations/bboxes_caries/370.txt  \n",
            "  inflating: ./datasets/annotations/bboxes_caries/372.txt  \n",
            "  inflating: ./datasets/annotations/bboxes_caries/376.txt  \n",
            "  inflating: ./datasets/annotations/bboxes_caries/378.txt  \n",
            "  inflating: ./datasets/annotations/bboxes_caries/383.txt  \n",
            "  inflating: ./datasets/annotations/bboxes_caries/388.txt  \n",
            "  inflating: ./datasets/annotations/bboxes_caries/392.txt  \n",
            "  inflating: ./datasets/annotations/bboxes_caries/395.txt  \n",
            "  inflating: ./datasets/annotations/bboxes_caries/396.txt  \n",
            "  inflating: ./datasets/annotations/bboxes_caries/702.txt  \n",
            "  inflating: ./datasets/annotations/bboxes_caries/706.txt  \n",
            "  inflating: ./datasets/annotations/bboxes_caries/708.txt  \n",
            "  inflating: ./datasets/annotations/bboxes_caries/710.txt  \n",
            "  inflating: ./datasets/annotations/bboxes_caries/714.txt  \n",
            "  inflating: ./datasets/annotations/bboxes_caries/715.txt  \n",
            "  inflating: ./datasets/annotations/bboxes_caries/717.txt  \n",
            "  inflating: ./datasets/annotations/bboxes_caries/724.txt  \n",
            "  inflating: ./datasets/annotations/bboxes_caries/732.txt  \n",
            "  inflating: ./datasets/annotations/bboxes_caries/736.txt  \n",
            "  inflating: ./datasets/annotations/bboxes_caries/740.txt  \n",
            "  inflating: ./datasets/annotations/bboxes_caries/748.txt  \n",
            "  inflating: ./datasets/annotations/bboxes_caries/750.txt  \n",
            "  inflating: ./datasets/annotations/bboxes_caries/755.txt  \n",
            "  inflating: ./datasets/annotations/bboxes_caries/758.txt  \n",
            "  inflating: ./datasets/annotations/bboxes_caries/759.txt  \n",
            "  inflating: ./datasets/annotations/bboxes_caries/761.txt  \n",
            "  inflating: ./datasets/annotations/bboxes_caries/769.txt  \n",
            "  inflating: ./datasets/annotations/bboxes_caries/777.txt  \n",
            "  inflating: ./datasets/annotations/bboxes_caries/778.txt  \n",
            "  inflating: ./datasets/annotations/bboxes_caries/783.txt  \n",
            "  inflating: ./datasets/annotations/bboxes_caries/784.txt  \n",
            "  inflating: ./datasets/annotations/bboxes_caries/786.txt  \n",
            "  inflating: ./datasets/annotations/bboxes_caries/790.txt  \n",
            "  inflating: ./datasets/annotations/bboxes_caries/793.txt  \n",
            "  inflating: ./datasets/annotations/bboxes_caries/797.txt  \n",
            "  inflating: ./datasets/annotations/bboxes_caries/804.txt  \n",
            "  inflating: ./datasets/annotations/bboxes_caries/810.txt  \n",
            "  inflating: ./datasets/annotations/bboxes_caries/812.txt  \n",
            "  inflating: ./datasets/annotations/bboxes_caries/814.txt  \n",
            "  inflating: ./datasets/annotations/bboxes_caries/818.txt  \n",
            "  inflating: ./datasets/annotations/bboxes_caries/819.txt  \n",
            "  inflating: ./datasets/annotations/bboxes_caries/822.txt  \n",
            "  inflating: ./datasets/annotations/bboxes_caries/837.txt  \n",
            "  inflating: ./datasets/annotations/bboxes_caries/842.txt  \n",
            "  inflating: ./datasets/annotations/bboxes_caries/855.txt  \n",
            "  inflating: ./datasets/annotations/bboxes_caries/856.txt  \n",
            "  inflating: ./datasets/annotations/bboxes_caries/857.txt  \n",
            "  inflating: ./datasets/annotations/bboxes_caries/858.txt  \n",
            "  inflating: ./datasets/annotations/bboxes_caries/859.txt  \n",
            "  inflating: ./datasets/annotations/bboxes_caries/861.txt  \n",
            "  inflating: ./datasets/annotations/bboxes_caries/866.txt  \n",
            "  inflating: ./datasets/annotations/bboxes_caries/867.txt  \n",
            "  inflating: ./datasets/annotations/bboxes_caries/872.txt  \n",
            "  inflating: ./datasets/annotations/bboxes_caries/875.txt  \n",
            "  inflating: ./datasets/annotations/bboxes_caries/883.txt  \n",
            "  inflating: ./datasets/annotations/bboxes_caries/885.txt  \n",
            "  inflating: ./datasets/annotations/bboxes_caries/886.txt  \n",
            "  inflating: ./datasets/annotations/bboxes_caries/895.txt  \n",
            "  inflating: ./datasets/annotations/bboxes_caries/901.txt  \n",
            "  inflating: ./datasets/annotations/bboxes_caries/913.txt  \n",
            "  inflating: ./datasets/annotations/bboxes_caries/925.txt  \n",
            "  inflating: ./datasets/annotations/bboxes_caries/934.txt  \n",
            "  inflating: ./datasets/annotations/bboxes_caries/935.txt  \n",
            "  inflating: ./datasets/annotations/bboxes_caries/939.txt  \n",
            "  inflating: ./datasets/annotations/bboxes_caries/942.txt  \n",
            "  inflating: ./datasets/annotations/bboxes_caries/952.txt  \n",
            "  inflating: ./datasets/annotations/bboxes_caries/954.txt  \n",
            "  inflating: ./datasets/annotations/bboxes_caries/963.txt  \n",
            "  inflating: ./datasets/annotations/bboxes_caries/979.txt  \n",
            "  inflating: ./datasets/annotations/bboxes_caries/981.txt  \n",
            "  inflating: ./datasets/annotations/bboxes_caries/996.txt  \n",
            "  inflating: ./datasets/annotations/bboxes_teeth/1008.txt  \n",
            "  inflating: ./datasets/annotations/bboxes_teeth/1009.txt  \n",
            "  inflating: ./datasets/annotations/bboxes_teeth/1016.txt  \n",
            "  inflating: ./datasets/annotations/bboxes_teeth/1018.txt  \n",
            "  inflating: ./datasets/annotations/bboxes_teeth/1026.txt  \n",
            "  inflating: ./datasets/annotations/bboxes_teeth/1033.txt  \n",
            "  inflating: ./datasets/annotations/bboxes_teeth/1042.txt  \n",
            "  inflating: ./datasets/annotations/bboxes_teeth/1050.txt  \n",
            "  inflating: ./datasets/annotations/bboxes_teeth/1058.txt  \n",
            "  inflating: ./datasets/annotations/bboxes_teeth/1067.txt  \n",
            "  inflating: ./datasets/annotations/bboxes_teeth/1074.txt  \n",
            "  inflating: ./datasets/annotations/bboxes_teeth/1080.txt  \n",
            "  inflating: ./datasets/annotations/bboxes_teeth/1083.txt  \n",
            "  inflating: ./datasets/annotations/bboxes_teeth/1088.txt  \n",
            "  inflating: ./datasets/annotations/bboxes_teeth/1090.txt  \n",
            "  inflating: ./datasets/annotations/bboxes_teeth/1091.txt  \n",
            "  inflating: ./datasets/annotations/bboxes_teeth/1092.txt  \n",
            "  inflating: ./datasets/annotations/bboxes_teeth/1096.txt  \n",
            "  inflating: ./datasets/annotations/bboxes_teeth/306.txt  \n",
            "  inflating: ./datasets/annotations/bboxes_teeth/310.txt  \n",
            "  inflating: ./datasets/annotations/bboxes_teeth/318.txt  \n",
            "  inflating: ./datasets/annotations/bboxes_teeth/323.txt  \n",
            "  inflating: ./datasets/annotations/bboxes_teeth/347.txt  \n",
            "  inflating: ./datasets/annotations/bboxes_teeth/350.txt  \n",
            "  inflating: ./datasets/annotations/bboxes_teeth/354.txt  \n",
            "  inflating: ./datasets/annotations/bboxes_teeth/360.txt  \n",
            "  inflating: ./datasets/annotations/bboxes_teeth/365.txt  \n",
            "  inflating: ./datasets/annotations/bboxes_teeth/367.txt  \n",
            "  inflating: ./datasets/annotations/bboxes_teeth/369.txt  \n",
            "  inflating: ./datasets/annotations/bboxes_teeth/370.txt  \n",
            "  inflating: ./datasets/annotations/bboxes_teeth/372.txt  \n",
            "  inflating: ./datasets/annotations/bboxes_teeth/376.txt  \n",
            "  inflating: ./datasets/annotations/bboxes_teeth/378.txt  \n",
            "  inflating: ./datasets/annotations/bboxes_teeth/383.txt  \n",
            "  inflating: ./datasets/annotations/bboxes_teeth/388.txt  \n",
            "  inflating: ./datasets/annotations/bboxes_teeth/392.txt  \n",
            "  inflating: ./datasets/annotations/bboxes_teeth/395.txt  \n",
            "  inflating: ./datasets/annotations/bboxes_teeth/396.txt  \n",
            "  inflating: ./datasets/annotations/bboxes_teeth/702.txt  \n",
            "  inflating: ./datasets/annotations/bboxes_teeth/706.txt  \n",
            "  inflating: ./datasets/annotations/bboxes_teeth/708.txt  \n",
            "  inflating: ./datasets/annotations/bboxes_teeth/710.txt  \n",
            "  inflating: ./datasets/annotations/bboxes_teeth/714.txt  \n",
            "  inflating: ./datasets/annotations/bboxes_teeth/715.txt  \n",
            "  inflating: ./datasets/annotations/bboxes_teeth/717.txt  \n",
            "  inflating: ./datasets/annotations/bboxes_teeth/724.txt  \n",
            "  inflating: ./datasets/annotations/bboxes_teeth/732.txt  \n",
            "  inflating: ./datasets/annotations/bboxes_teeth/736.txt  \n",
            "  inflating: ./datasets/annotations/bboxes_teeth/740.txt  \n",
            "  inflating: ./datasets/annotations/bboxes_teeth/748.txt  \n",
            "  inflating: ./datasets/annotations/bboxes_teeth/750.txt  \n",
            "  inflating: ./datasets/annotations/bboxes_teeth/755.txt  \n",
            "  inflating: ./datasets/annotations/bboxes_teeth/758.txt  \n",
            "  inflating: ./datasets/annotations/bboxes_teeth/759.txt  \n",
            "  inflating: ./datasets/annotations/bboxes_teeth/761.txt  \n",
            "  inflating: ./datasets/annotations/bboxes_teeth/769.txt  \n",
            "  inflating: ./datasets/annotations/bboxes_teeth/777.txt  \n",
            "  inflating: ./datasets/annotations/bboxes_teeth/778.txt  \n",
            "  inflating: ./datasets/annotations/bboxes_teeth/783.txt  \n",
            "  inflating: ./datasets/annotations/bboxes_teeth/784.txt  \n",
            "  inflating: ./datasets/annotations/bboxes_teeth/786.txt  \n",
            "  inflating: ./datasets/annotations/bboxes_teeth/790.txt  \n",
            "  inflating: ./datasets/annotations/bboxes_teeth/793.txt  \n",
            "  inflating: ./datasets/annotations/bboxes_teeth/797.txt  \n",
            "  inflating: ./datasets/annotations/bboxes_teeth/804.txt  \n",
            "  inflating: ./datasets/annotations/bboxes_teeth/810.txt  \n",
            "  inflating: ./datasets/annotations/bboxes_teeth/812.txt  \n",
            "  inflating: ./datasets/annotations/bboxes_teeth/814.txt  \n",
            "  inflating: ./datasets/annotations/bboxes_teeth/818.txt  \n",
            "  inflating: ./datasets/annotations/bboxes_teeth/819.txt  \n",
            "  inflating: ./datasets/annotations/bboxes_teeth/822.txt  \n",
            "  inflating: ./datasets/annotations/bboxes_teeth/837.txt  \n",
            "  inflating: ./datasets/annotations/bboxes_teeth/842.txt  \n",
            "  inflating: ./datasets/annotations/bboxes_teeth/855.txt  \n",
            "  inflating: ./datasets/annotations/bboxes_teeth/856.txt  \n",
            "  inflating: ./datasets/annotations/bboxes_teeth/857.txt  \n",
            "  inflating: ./datasets/annotations/bboxes_teeth/858.txt  \n",
            "  inflating: ./datasets/annotations/bboxes_teeth/859.txt  \n",
            "  inflating: ./datasets/annotations/bboxes_teeth/861.txt  \n",
            "  inflating: ./datasets/annotations/bboxes_teeth/866.txt  \n",
            "  inflating: ./datasets/annotations/bboxes_teeth/867.txt  \n",
            "  inflating: ./datasets/annotations/bboxes_teeth/872.txt  \n",
            "  inflating: ./datasets/annotations/bboxes_teeth/875.txt  \n",
            "  inflating: ./datasets/annotations/bboxes_teeth/883.txt  \n",
            "  inflating: ./datasets/annotations/bboxes_teeth/885.txt  \n",
            "  inflating: ./datasets/annotations/bboxes_teeth/886.txt  \n",
            "  inflating: ./datasets/annotations/bboxes_teeth/895.txt  \n",
            "  inflating: ./datasets/annotations/bboxes_teeth/901.txt  \n",
            "  inflating: ./datasets/annotations/bboxes_teeth/913.txt  \n",
            "  inflating: ./datasets/annotations/bboxes_teeth/925.txt  \n",
            "  inflating: ./datasets/annotations/bboxes_teeth/934.txt  \n",
            "  inflating: ./datasets/annotations/bboxes_teeth/935.txt  \n",
            "  inflating: ./datasets/annotations/bboxes_teeth/939.txt  \n",
            "  inflating: ./datasets/annotations/bboxes_teeth/942.txt  \n",
            "  inflating: ./datasets/annotations/bboxes_teeth/952.txt  \n",
            "  inflating: ./datasets/annotations/bboxes_teeth/954.txt  \n",
            "  inflating: ./datasets/annotations/bboxes_teeth/963.txt  \n",
            "  inflating: ./datasets/annotations/bboxes_teeth/979.txt  \n",
            "  inflating: ./datasets/annotations/bboxes_teeth/981.txt  \n",
            "  inflating: ./datasets/annotations/bboxes_teeth/996.txt  \n",
            "  inflating: ./datasets/images/1008.png  \n",
            "  inflating: ./datasets/images/1009.png  \n",
            "  inflating: ./datasets/images/1016.png  \n",
            "  inflating: ./datasets/images/1018.png  \n",
            "  inflating: ./datasets/images/1026.png  \n",
            "  inflating: ./datasets/images/1033.png  \n",
            "  inflating: ./datasets/images/1042.png  \n",
            "  inflating: ./datasets/images/1050.png  \n",
            "  inflating: ./datasets/images/1058.png  \n",
            "  inflating: ./datasets/images/1067.png  \n",
            "  inflating: ./datasets/images/1074.png  \n",
            "  inflating: ./datasets/images/1080.png  \n",
            "  inflating: ./datasets/images/1083.png  \n",
            "  inflating: ./datasets/images/1088.png  \n",
            "  inflating: ./datasets/images/1090.png  \n",
            "  inflating: ./datasets/images/1091.png  \n",
            "  inflating: ./datasets/images/1092.png  \n",
            "  inflating: ./datasets/images/1096.png  \n",
            "  inflating: ./datasets/images/306.png  \n",
            "  inflating: ./datasets/images/310.png  \n",
            "  inflating: ./datasets/images/318.png  \n",
            "  inflating: ./datasets/images/323.png  \n",
            "  inflating: ./datasets/images/347.png  \n",
            "  inflating: ./datasets/images/350.png  \n",
            "  inflating: ./datasets/images/354.png  \n",
            "  inflating: ./datasets/images/360.png  \n",
            "  inflating: ./datasets/images/365.png  \n",
            "  inflating: ./datasets/images/367.png  \n",
            "  inflating: ./datasets/images/369.png  \n",
            "  inflating: ./datasets/images/370.png  \n",
            "  inflating: ./datasets/images/372.png  \n",
            "  inflating: ./datasets/images/376.png  \n",
            "  inflating: ./datasets/images/378.png  \n",
            "  inflating: ./datasets/images/383.png  \n",
            "  inflating: ./datasets/images/388.png  \n",
            "  inflating: ./datasets/images/392.png  \n",
            "  inflating: ./datasets/images/395.png  \n",
            "  inflating: ./datasets/images/396.png  \n",
            "  inflating: ./datasets/images/702.png  \n",
            "  inflating: ./datasets/images/706.png  \n",
            "  inflating: ./datasets/images/708.png  \n",
            "  inflating: ./datasets/images/710.png  \n",
            "  inflating: ./datasets/images/714.png  \n",
            "  inflating: ./datasets/images/715.png  \n",
            "  inflating: ./datasets/images/717.png  \n",
            "  inflating: ./datasets/images/724.png  \n",
            "  inflating: ./datasets/images/732.png  \n",
            "  inflating: ./datasets/images/736.png  \n",
            "  inflating: ./datasets/images/740.png  \n",
            "  inflating: ./datasets/images/748.png  \n",
            "  inflating: ./datasets/images/750.png  \n",
            "  inflating: ./datasets/images/755.png  \n",
            "  inflating: ./datasets/images/758.png  \n",
            "  inflating: ./datasets/images/759.png  \n",
            "  inflating: ./datasets/images/761.png  \n",
            "  inflating: ./datasets/images/769.png  \n",
            "  inflating: ./datasets/images/777.png  \n",
            "  inflating: ./datasets/images/778.png  \n",
            "  inflating: ./datasets/images/783.png  \n",
            "  inflating: ./datasets/images/784.png  \n",
            "  inflating: ./datasets/images/786.png  \n",
            "  inflating: ./datasets/images/790.png  \n",
            "  inflating: ./datasets/images/793.png  \n",
            "  inflating: ./datasets/images/797.png  \n",
            "  inflating: ./datasets/images/804.png  \n",
            "  inflating: ./datasets/images/810.png  \n",
            "  inflating: ./datasets/images/812.png  \n",
            "  inflating: ./datasets/images/814.png  \n",
            "  inflating: ./datasets/images/818.png  \n",
            "  inflating: ./datasets/images/819.png  \n",
            "  inflating: ./datasets/images/822.png  \n",
            "  inflating: ./datasets/images/837.png  \n",
            "  inflating: ./datasets/images/842.png  \n",
            "  inflating: ./datasets/images/855.png  \n",
            "  inflating: ./datasets/images/856.png  \n",
            "  inflating: ./datasets/images/857.png  \n",
            "  inflating: ./datasets/images/858.png  \n",
            "  inflating: ./datasets/images/859.png  \n",
            "  inflating: ./datasets/images/861.png  \n",
            "  inflating: ./datasets/images/866.png  \n",
            "  inflating: ./datasets/images/867.png  \n",
            "  inflating: ./datasets/images/872.png  \n",
            "  inflating: ./datasets/images/875.png  \n",
            "  inflating: ./datasets/images/883.png  \n",
            "  inflating: ./datasets/images/885.png  \n",
            "  inflating: ./datasets/images/886.png  \n",
            "  inflating: ./datasets/images/895.png  \n",
            "  inflating: ./datasets/images/901.png  \n",
            "  inflating: ./datasets/images/913.png  \n",
            "  inflating: ./datasets/images/925.png  \n",
            "  inflating: ./datasets/images/934.png  \n",
            "  inflating: ./datasets/images/935.png  \n",
            "  inflating: ./datasets/images/939.png  \n",
            "  inflating: ./datasets/images/942.png  \n",
            "  inflating: ./datasets/images/952.png  \n",
            "  inflating: ./datasets/images/954.png  \n",
            "  inflating: ./datasets/images/963.png  \n",
            "  inflating: ./datasets/images/979.png  \n",
            "  inflating: ./datasets/images/981.png  \n",
            "  inflating: ./datasets/images/996.png  \n",
            "  inflating: ./datasets/images_cut/1008.png  \n",
            "  inflating: ./datasets/images_cut/1009.png  \n",
            "  inflating: ./datasets/images_cut/1016.png  \n",
            "  inflating: ./datasets/images_cut/1018.png  \n",
            "  inflating: ./datasets/images_cut/1026.png  \n",
            "  inflating: ./datasets/images_cut/1033.png  \n",
            "  inflating: ./datasets/images_cut/1042.png  \n",
            "  inflating: ./datasets/images_cut/1050.png  \n",
            "  inflating: ./datasets/images_cut/1058.png  \n",
            "  inflating: ./datasets/images_cut/1067.png  \n",
            "  inflating: ./datasets/images_cut/1074.png  \n",
            "  inflating: ./datasets/images_cut/1080.png  \n",
            "  inflating: ./datasets/images_cut/1083.png  \n",
            "  inflating: ./datasets/images_cut/1088.png  \n",
            "  inflating: ./datasets/images_cut/1090.png  \n",
            "  inflating: ./datasets/images_cut/1091.png  \n",
            "  inflating: ./datasets/images_cut/1092.png  \n",
            "  inflating: ./datasets/images_cut/1096.png  \n",
            "  inflating: ./datasets/images_cut/306.png  \n",
            "  inflating: ./datasets/images_cut/310.png  \n",
            "  inflating: ./datasets/images_cut/318.png  \n",
            "  inflating: ./datasets/images_cut/323.png  \n",
            "  inflating: ./datasets/images_cut/347.png  \n",
            "  inflating: ./datasets/images_cut/350.png  \n",
            "  inflating: ./datasets/images_cut/354.png  \n",
            "  inflating: ./datasets/images_cut/360.png  \n",
            "  inflating: ./datasets/images_cut/365.png  \n",
            "  inflating: ./datasets/images_cut/367.png  \n",
            "  inflating: ./datasets/images_cut/369.png  \n",
            "  inflating: ./datasets/images_cut/370.png  \n",
            "  inflating: ./datasets/images_cut/372.png  \n",
            "  inflating: ./datasets/images_cut/376.png  \n",
            "  inflating: ./datasets/images_cut/378.png  \n",
            "  inflating: ./datasets/images_cut/383.png  \n",
            "  inflating: ./datasets/images_cut/388.png  \n",
            "  inflating: ./datasets/images_cut/392.png  \n",
            "  inflating: ./datasets/images_cut/395.png  \n",
            "  inflating: ./datasets/images_cut/396.png  \n",
            "  inflating: ./datasets/images_cut/702.png  \n",
            "  inflating: ./datasets/images_cut/706.png  \n",
            "  inflating: ./datasets/images_cut/708.png  \n",
            "  inflating: ./datasets/images_cut/710.png  \n",
            "  inflating: ./datasets/images_cut/714.png  \n",
            "  inflating: ./datasets/images_cut/715.png  \n",
            "  inflating: ./datasets/images_cut/717.png  \n",
            "  inflating: ./datasets/images_cut/724.png  \n",
            "  inflating: ./datasets/images_cut/732.png  \n",
            "  inflating: ./datasets/images_cut/736.png  \n",
            "  inflating: ./datasets/images_cut/740.png  \n",
            "  inflating: ./datasets/images_cut/748.png  \n",
            "  inflating: ./datasets/images_cut/750.png  \n",
            "  inflating: ./datasets/images_cut/755.png  \n",
            "  inflating: ./datasets/images_cut/758.png  \n",
            "  inflating: ./datasets/images_cut/759.png  \n",
            "  inflating: ./datasets/images_cut/761.png  \n",
            "  inflating: ./datasets/images_cut/769.png  \n",
            "  inflating: ./datasets/images_cut/777.png  \n",
            "  inflating: ./datasets/images_cut/778.png  \n",
            "  inflating: ./datasets/images_cut/783.png  \n",
            "  inflating: ./datasets/images_cut/784.png  \n",
            "  inflating: ./datasets/images_cut/786.png  \n",
            "  inflating: ./datasets/images_cut/790.png  \n",
            "  inflating: ./datasets/images_cut/793.png  \n",
            "  inflating: ./datasets/images_cut/797.png  \n",
            "  inflating: ./datasets/images_cut/804.png  \n",
            "  inflating: ./datasets/images_cut/810.png  \n",
            "  inflating: ./datasets/images_cut/812.png  \n",
            "  inflating: ./datasets/images_cut/814.png  \n",
            "  inflating: ./datasets/images_cut/818.png  \n",
            "  inflating: ./datasets/images_cut/819.png  \n",
            "  inflating: ./datasets/images_cut/822.png  \n",
            "  inflating: ./datasets/images_cut/837.png  \n",
            "  inflating: ./datasets/images_cut/842.png  \n",
            "  inflating: ./datasets/images_cut/855.png  \n",
            "  inflating: ./datasets/images_cut/856.png  \n",
            "  inflating: ./datasets/images_cut/857.png  \n",
            "  inflating: ./datasets/images_cut/858.png  \n",
            "  inflating: ./datasets/images_cut/859.png  \n",
            "  inflating: ./datasets/images_cut/861.png  \n",
            "  inflating: ./datasets/images_cut/866.png  \n",
            "  inflating: ./datasets/images_cut/867.png  \n",
            "  inflating: ./datasets/images_cut/872.png  \n",
            "  inflating: ./datasets/images_cut/875.png  \n",
            "  inflating: ./datasets/images_cut/883.png  \n",
            "  inflating: ./datasets/images_cut/885.png  \n",
            "  inflating: ./datasets/images_cut/886.png  \n",
            "  inflating: ./datasets/images_cut/895.png  \n",
            "  inflating: ./datasets/images_cut/901.png  \n",
            "  inflating: ./datasets/images_cut/913.png  \n",
            "  inflating: ./datasets/images_cut/925.png  \n",
            "  inflating: ./datasets/images_cut/934.png  \n",
            "  inflating: ./datasets/images_cut/935.png  \n",
            "  inflating: ./datasets/images_cut/939.png  \n",
            "  inflating: ./datasets/images_cut/942.png  \n",
            "  inflating: ./datasets/images_cut/952.png  \n",
            "  inflating: ./datasets/images_cut/954.png  \n",
            "  inflating: ./datasets/images_cut/963.png  \n",
            "  inflating: ./datasets/images_cut/979.png  \n",
            "  inflating: ./datasets/images_cut/981.png  \n",
            "  inflating: ./datasets/images_cut/996.png  \n",
            "  inflating: ./datasets/labels/1008.png  \n",
            "  inflating: ./datasets/labels/1009.png  \n",
            "  inflating: ./datasets/labels/1016.png  \n",
            "  inflating: ./datasets/labels/1018.png  \n",
            "  inflating: ./datasets/labels/1026.png  \n",
            "  inflating: ./datasets/labels/1033.png  \n",
            "  inflating: ./datasets/labels/1042.png  \n",
            "  inflating: ./datasets/labels/1050.png  \n",
            "  inflating: ./datasets/labels/1058.png  \n",
            "  inflating: ./datasets/labels/1067.png  \n",
            "  inflating: ./datasets/labels/1074.png  \n",
            "  inflating: ./datasets/labels/1080.png  \n",
            "  inflating: ./datasets/labels/1083.png  \n",
            "  inflating: ./datasets/labels/1088.png  \n",
            "  inflating: ./datasets/labels/1090.png  \n",
            "  inflating: ./datasets/labels/1091.png  \n",
            "  inflating: ./datasets/labels/1092.png  \n",
            "  inflating: ./datasets/labels/1096.png  \n",
            "  inflating: ./datasets/labels/306.png  \n",
            "  inflating: ./datasets/labels/310.png  \n",
            "  inflating: ./datasets/labels/318.png  \n",
            "  inflating: ./datasets/labels/323.png  \n",
            "  inflating: ./datasets/labels/347.png  \n",
            "  inflating: ./datasets/labels/350.png  \n",
            "  inflating: ./datasets/labels/354.png  \n",
            "  inflating: ./datasets/labels/360.png  \n",
            "  inflating: ./datasets/labels/365.png  \n",
            "  inflating: ./datasets/labels/367.png  \n",
            "  inflating: ./datasets/labels/369.png  \n",
            "  inflating: ./datasets/labels/370.png  \n",
            "  inflating: ./datasets/labels/372.png  \n",
            "  inflating: ./datasets/labels/376.png  \n",
            "  inflating: ./datasets/labels/378.png  \n",
            "  inflating: ./datasets/labels/383.png  \n",
            "  inflating: ./datasets/labels/388.png  \n",
            "  inflating: ./datasets/labels/392.png  \n",
            "  inflating: ./datasets/labels/395.png  \n",
            "  inflating: ./datasets/labels/396.png  \n",
            "  inflating: ./datasets/labels/702.png  \n",
            "  inflating: ./datasets/labels/706.png  \n",
            "  inflating: ./datasets/labels/708.png  \n",
            "  inflating: ./datasets/labels/710.png  \n",
            "  inflating: ./datasets/labels/714.png  \n",
            "  inflating: ./datasets/labels/715.png  \n",
            "  inflating: ./datasets/labels/717.png  \n",
            "  inflating: ./datasets/labels/724.png  \n",
            "  inflating: ./datasets/labels/732.png  \n",
            "  inflating: ./datasets/labels/736.png  \n",
            "  inflating: ./datasets/labels/740.png  \n",
            "  inflating: ./datasets/labels/748.png  \n",
            "  inflating: ./datasets/labels/750.png  \n",
            "  inflating: ./datasets/labels/755.png  \n",
            "  inflating: ./datasets/labels/758.png  \n",
            "  inflating: ./datasets/labels/759.png  \n",
            "  inflating: ./datasets/labels/761.png  \n",
            "  inflating: ./datasets/labels/769.png  \n",
            "  inflating: ./datasets/labels/777.png  \n",
            "  inflating: ./datasets/labels/778.png  \n",
            "  inflating: ./datasets/labels/783.png  \n",
            "  inflating: ./datasets/labels/784.png  \n",
            "  inflating: ./datasets/labels/786.png  \n",
            "  inflating: ./datasets/labels/790.png  \n",
            "  inflating: ./datasets/labels/793.png  \n",
            "  inflating: ./datasets/labels/797.png  \n",
            "  inflating: ./datasets/labels/804.png  \n",
            "  inflating: ./datasets/labels/810.png  \n",
            "  inflating: ./datasets/labels/812.png  \n",
            "  inflating: ./datasets/labels/814.png  \n",
            "  inflating: ./datasets/labels/818.png  \n",
            "  inflating: ./datasets/labels/819.png  \n",
            "  inflating: ./datasets/labels/822.png  \n",
            "  inflating: ./datasets/labels/837.png  \n",
            "  inflating: ./datasets/labels/842.png  \n",
            "  inflating: ./datasets/labels/855.png  \n",
            "  inflating: ./datasets/labels/856.png  \n",
            "  inflating: ./datasets/labels/857.png  \n",
            "  inflating: ./datasets/labels/858.png  \n",
            "  inflating: ./datasets/labels/859.png  \n",
            "  inflating: ./datasets/labels/861.png  \n",
            "  inflating: ./datasets/labels/866.png  \n",
            "  inflating: ./datasets/labels/867.png  \n",
            "  inflating: ./datasets/labels/872.png  \n",
            "  inflating: ./datasets/labels/875.png  \n",
            "  inflating: ./datasets/labels/883.png  \n",
            "  inflating: ./datasets/labels/885.png  \n",
            "  inflating: ./datasets/labels/886.png  \n",
            "  inflating: ./datasets/labels/895.png  \n",
            "  inflating: ./datasets/labels/901.png  \n",
            "  inflating: ./datasets/labels/913.png  \n",
            "  inflating: ./datasets/labels/925.png  \n",
            "  inflating: ./datasets/labels/934.png  \n",
            "  inflating: ./datasets/labels/935.png  \n",
            "  inflating: ./datasets/labels/939.png  \n",
            "  inflating: ./datasets/labels/942.png  \n",
            "  inflating: ./datasets/labels/952.png  \n",
            "  inflating: ./datasets/labels/954.png  \n",
            "  inflating: ./datasets/labels/963.png  \n",
            "  inflating: ./datasets/labels/979.png  \n",
            "  inflating: ./datasets/labels/981.png  \n",
            "  inflating: ./datasets/labels/996.png  \n",
            "  inflating: ./datasets/labels_cut/1008.png  \n",
            "  inflating: ./datasets/labels_cut/1009.png  \n",
            "  inflating: ./datasets/labels_cut/1016.png  \n",
            "  inflating: ./datasets/labels_cut/1018.png  \n",
            "  inflating: ./datasets/labels_cut/1026.png  \n",
            "  inflating: ./datasets/labels_cut/1033.png  \n",
            "  inflating: ./datasets/labels_cut/1042.png  \n",
            "  inflating: ./datasets/labels_cut/1050.png  \n",
            "  inflating: ./datasets/labels_cut/1058.png  \n",
            "  inflating: ./datasets/labels_cut/1067.png  \n",
            "  inflating: ./datasets/labels_cut/1074.png  \n",
            "  inflating: ./datasets/labels_cut/1080.png  \n",
            "  inflating: ./datasets/labels_cut/1083.png  \n",
            "  inflating: ./datasets/labels_cut/1088.png  \n",
            "  inflating: ./datasets/labels_cut/1090.png  \n",
            "  inflating: ./datasets/labels_cut/1091.png  \n",
            "  inflating: ./datasets/labels_cut/1092.png  \n",
            "  inflating: ./datasets/labels_cut/1096.png  \n",
            "  inflating: ./datasets/labels_cut/306.png  \n",
            "  inflating: ./datasets/labels_cut/310.png  \n",
            "  inflating: ./datasets/labels_cut/318.png  \n",
            "  inflating: ./datasets/labels_cut/323.png  \n",
            "  inflating: ./datasets/labels_cut/347.png  \n",
            "  inflating: ./datasets/labels_cut/350.png  \n",
            "  inflating: ./datasets/labels_cut/354.png  \n",
            "  inflating: ./datasets/labels_cut/360.png  \n",
            "  inflating: ./datasets/labels_cut/365.png  \n",
            "  inflating: ./datasets/labels_cut/367.png  \n",
            "  inflating: ./datasets/labels_cut/369.png  \n",
            "  inflating: ./datasets/labels_cut/370.png  \n",
            "  inflating: ./datasets/labels_cut/372.png  \n",
            "  inflating: ./datasets/labels_cut/376.png  \n",
            "  inflating: ./datasets/labels_cut/378.png  \n",
            "  inflating: ./datasets/labels_cut/383.png  \n",
            "  inflating: ./datasets/labels_cut/388.png  \n",
            "  inflating: ./datasets/labels_cut/392.png  \n",
            "  inflating: ./datasets/labels_cut/395.png  \n",
            "  inflating: ./datasets/labels_cut/396.png  \n",
            "  inflating: ./datasets/labels_cut/702.png  \n",
            "  inflating: ./datasets/labels_cut/706.png  \n",
            "  inflating: ./datasets/labels_cut/708.png  \n",
            "  inflating: ./datasets/labels_cut/710.png  \n",
            "  inflating: ./datasets/labels_cut/714.png  \n",
            "  inflating: ./datasets/labels_cut/715.png  \n",
            "  inflating: ./datasets/labels_cut/717.png  \n",
            "  inflating: ./datasets/labels_cut/724.png  \n",
            "  inflating: ./datasets/labels_cut/732.png  \n",
            "  inflating: ./datasets/labels_cut/736.png  \n",
            "  inflating: ./datasets/labels_cut/740.png  \n",
            "  inflating: ./datasets/labels_cut/748.png  \n",
            "  inflating: ./datasets/labels_cut/750.png  \n",
            "  inflating: ./datasets/labels_cut/755.png  \n",
            "  inflating: ./datasets/labels_cut/758.png  \n",
            "  inflating: ./datasets/labels_cut/759.png  \n",
            "  inflating: ./datasets/labels_cut/761.png  \n",
            "  inflating: ./datasets/labels_cut/769.png  \n",
            "  inflating: ./datasets/labels_cut/777.png  \n",
            "  inflating: ./datasets/labels_cut/778.png  \n",
            "  inflating: ./datasets/labels_cut/783.png  \n",
            "  inflating: ./datasets/labels_cut/784.png  \n",
            "  inflating: ./datasets/labels_cut/786.png  \n",
            "  inflating: ./datasets/labels_cut/790.png  \n",
            "  inflating: ./datasets/labels_cut/793.png  \n",
            "  inflating: ./datasets/labels_cut/797.png  \n",
            "  inflating: ./datasets/labels_cut/804.png  \n",
            "  inflating: ./datasets/labels_cut/810.png  \n",
            "  inflating: ./datasets/labels_cut/812.png  \n",
            "  inflating: ./datasets/labels_cut/814.png  \n",
            "  inflating: ./datasets/labels_cut/818.png  \n",
            "  inflating: ./datasets/labels_cut/819.png  \n",
            "  inflating: ./datasets/labels_cut/822.png  \n",
            "  inflating: ./datasets/labels_cut/837.png  \n",
            "  inflating: ./datasets/labels_cut/842.png  \n",
            "  inflating: ./datasets/labels_cut/855.png  \n",
            "  inflating: ./datasets/labels_cut/856.png  \n",
            "  inflating: ./datasets/labels_cut/857.png  \n",
            "  inflating: ./datasets/labels_cut/858.png  \n",
            "  inflating: ./datasets/labels_cut/859.png  \n",
            "  inflating: ./datasets/labels_cut/861.png  \n",
            "  inflating: ./datasets/labels_cut/866.png  \n",
            "  inflating: ./datasets/labels_cut/867.png  \n",
            "  inflating: ./datasets/labels_cut/872.png  \n",
            "  inflating: ./datasets/labels_cut/875.png  \n",
            "  inflating: ./datasets/labels_cut/883.png  \n",
            "  inflating: ./datasets/labels_cut/885.png  \n",
            "  inflating: ./datasets/labels_cut/886.png  \n",
            "  inflating: ./datasets/labels_cut/895.png  \n",
            "  inflating: ./datasets/labels_cut/901.png  \n",
            "  inflating: ./datasets/labels_cut/913.png  \n",
            "  inflating: ./datasets/labels_cut/925.png  \n",
            "  inflating: ./datasets/labels_cut/934.png  \n",
            "  inflating: ./datasets/labels_cut/935.png  \n",
            "  inflating: ./datasets/labels_cut/939.png  \n",
            "  inflating: ./datasets/labels_cut/942.png  \n",
            "  inflating: ./datasets/labels_cut/952.png  \n",
            "  inflating: ./datasets/labels_cut/954.png  \n",
            "  inflating: ./datasets/labels_cut/963.png  \n",
            "  inflating: ./datasets/labels_cut/979.png  \n",
            "  inflating: ./datasets/labels_cut/981.png  \n",
            "  inflating: ./datasets/labels_cut/996.png  \n"
          ]
        }
      ]
    },
    {
      "cell_type": "markdown",
      "source": [
        "# **1. Listar Arquivos de Imagem**\n",
        "Nesta etapa, verificamos se o diretório das imagens foi carregado corretamente e listamos os primeiros arquivos para garantir que os dados estão disponíveis.\n",
        "\n",
        "\n",
        "* os.listdir(): Lista todos os arquivos em um diretório especificado.\n",
        "*   print(): Exibe os primeiros 10 arquivos para verificar se as imagens foram carregadas corretamente.\n",
        "\n"
      ],
      "metadata": {
        "id": "TkC0WO2H2MCr"
      }
    },
    {
      "cell_type": "code",
      "source": [
        "import os\n",
        "\n",
        "# Definindo o caminho correto para as imagens\n",
        "image_dir = '/content/datasets/images'\n",
        "image_files = os.listdir(image_dir)\n",
        "\n",
        "# Exibindo os primeiros 10 arquivos de imagem\n",
        "print(image_files[:10])"
      ],
      "metadata": {
        "colab": {
          "base_uri": "https://localhost:8080/"
        },
        "id": "l9wjxaWdxn4S",
        "outputId": "689356cc-728c-42c2-e09f-fa527a4e8454"
      },
      "execution_count": null,
      "outputs": [
        {
          "output_type": "stream",
          "name": "stdout",
          "text": [
            "['867.png', '783.png', '395.png', '323.png', '939.png', '372.png', '837.png', '861.png', '1058.png', '706.png']\n"
          ]
        }
      ]
    },
    {
      "cell_type": "markdown",
      "source": [
        "# **2. Verificar Arquivos de Rótulos**\n",
        "\n",
        "Caso o dataset contenha rótulos (labels) em formato CSV ou outro formato, verificamos se o diretório correto contém esses arquivos e os listamos.\n",
        "\n",
        "\n",
        "\n",
        "*   os.path.exists(): Verifica se o diretório especificado de rótulos existe.\n",
        "*   os.listdir(): Lista os arquivos de rótulos, caso eles existam.\n",
        "\n"
      ],
      "metadata": {
        "id": "yIQSSGzT2xdU"
      }
    },
    {
      "cell_type": "code",
      "source": [
        "# Definindo o caminho para os rótulos\n",
        "label_dir = '/content/datasets/labels'  # ou '/content/datasets/labels_cut'\n",
        "if os.path.exists(label_dir):\n",
        "    label_files = os.listdir(label_dir)\n",
        "    print(\"Arquivos de rótulos:\", label_files)\n",
        "else:\n",
        "    print(\"Diretório de rótulos não encontrado.\")"
      ],
      "metadata": {
        "colab": {
          "base_uri": "https://localhost:8080/"
        },
        "id": "PghB0ybI4AVi",
        "outputId": "f8eddf25-b6cd-41a1-c4af-58d8060e95d1"
      },
      "execution_count": null,
      "outputs": [
        {
          "output_type": "stream",
          "name": "stdout",
          "text": [
            "Arquivos de rótulos: ['867.png', '783.png', '395.png', '323.png', '939.png', '372.png', '837.png', '861.png', '1058.png', '706.png', '702.png', '750.png', '347.png', '1009.png', '1018.png', '1042.png', '1050.png', '710.png', '350.png', '810.png', '842.png', '748.png', '819.png', '777.png', '812.png', '736.png', '306.png', '1033.png', '376.png', '804.png', '755.png', '1026.png', '1083.png', '369.png', '913.png', '883.png', '365.png', '715.png', '1016.png', '859.png', '895.png', '925.png', '942.png', '318.png', '383.png', '857.png', '370.png', '822.png', '866.png', '934.png', '1074.png', '761.png', '360.png', '378.png', '818.png', '759.png', '354.png', '1091.png', '784.png', '708.png', '769.png', '963.png', '396.png', '793.png', '872.png', '981.png', '1080.png', '885.png', '1067.png', '714.png', '758.png', '786.png', '1008.png', '1096.png', '952.png', '740.png', '901.png', '724.png', '996.png', '367.png', '875.png', '392.png', '790.png', '935.png', '1092.png', '814.png', '388.png', '310.png', '979.png', '886.png', '778.png', '954.png', '856.png', '797.png', '732.png', '717.png', '1088.png', '1090.png', '858.png', '855.png']\n"
          ]
        }
      ]
    },
    {
      "cell_type": "markdown",
      "source": [],
      "metadata": {
        "id": "8oEdsqcL2c5j"
      }
    },
    {
      "cell_type": "markdown",
      "source": [
        "# **3. Pré-processamento das Imagens**\n",
        "\n",
        "Nesta etapa, carregamos e pré-processamos as imagens, ajustando o tamanho e normalizando os valores dos pixels para alimentar o modelo de rede neural.\n",
        "\n",
        "\n",
        "\n",
        "*   load_img(): Carrega uma imagem do diretório especificado e ajusta o tamanho para 224x224 pixels.\n",
        "\n",
        "*   img_to_array(): Converte a imagem em um array de pixels.\n",
        "\n",
        "\n",
        "\n",
        "*   img_array /= 255.0: Normaliza os valores dos pixels para que fiquem entre 0 e 1, o que melhora a performance do treinamento do modelo.\n",
        "\n"
      ],
      "metadata": {
        "id": "N_hFkd-n3SCL"
      }
    },
    {
      "cell_type": "code",
      "source": [
        "from tensorflow.keras.preprocessing.image import load_img, img_to_array\n",
        "import numpy as np\n",
        "\n",
        "def preprocess_image(image_path, target_size=(224, 224)):\n",
        "    img = load_img(image_path, target_size=target_size)\n",
        "    img_array = img_to_array(img)\n",
        "    img_array /= 255.0  # Normalizando os valores dos pixels\n",
        "    return img_array\n",
        "\n",
        "# Carregar todas as imagens\n",
        "image_data = []\n",
        "for img_file in image_files:\n",
        "    img_path = os.path.join(image_dir, img_file)\n",
        "    image_data.append(preprocess_image(img_path))\n",
        "\n",
        "# Converter para um array numpy\n",
        "image_data = np.array(image_data)\n",
        "print(f\"Imagens carregadas: {image_data.shape}\")\n"
      ],
      "metadata": {
        "colab": {
          "base_uri": "https://localhost:8080/"
        },
        "id": "sfzFjNRt4iJb",
        "outputId": "ea207791-fa3a-40ad-8d5a-dc7e14db1d49"
      },
      "execution_count": null,
      "outputs": [
        {
          "output_type": "stream",
          "name": "stdout",
          "text": [
            "Imagens carregadas: (100, 224, 224, 3)\n"
          ]
        }
      ]
    },
    {
      "cell_type": "markdown",
      "source": [
        "#**4. Carregar Rótulos (Labels)**\n",
        "\n",
        "Carregar os rótulos das imagens (se existirem) de um arquivo CSV para vinculá-los aos dados de imagem.\n",
        "\n",
        "* pd.read_csv(): Carrega o arquivo CSV que contém os rótulos das imagens.\n",
        "\n",
        "* labels_df.head(): Mostra as primeiras 5 linhas do arquivo CSV para garantir que os rótulos foram carregados corretamente."
      ],
      "metadata": {
        "id": "uBvO3SDV3qOc"
      }
    },
    {
      "cell_type": "code",
      "source": [
        "import pandas as pd\n",
        "\n",
        "# Se houver um arquivo CSV com rótulos\n",
        "label_file = '/content/datasets/labels/labels.csv'\n",
        "if os.path.exists(label_file):\n",
        "    labels_df = pd.read_csv(label_file)\n",
        "    print(labels_df.head())\n",
        "else:\n",
        "    print(\"Arquivo de rótulos CSV não encontrado.\")\n"
      ],
      "metadata": {
        "colab": {
          "base_uri": "https://localhost:8080/"
        },
        "id": "71KxDpVK4P30",
        "outputId": "f3bd6e9f-6a88-4af7-f611-ed81ff714095"
      },
      "execution_count": null,
      "outputs": [
        {
          "output_type": "stream",
          "name": "stdout",
          "text": [
            "Arquivo de rótulos CSV não encontrado.\n"
          ]
        }
      ]
    },
    {
      "cell_type": "markdown",
      "source": [
        "# **5. Dividir Dataset em Conjunto de Treinamento e Validação**\n",
        "\n",
        "Dividimos os dados em dois conjuntos: um para treinamento do modelo e outro para validação, garantindo que o modelo não super ajuste nos dados de treino.\n",
        "\n",
        "* train_test_split(): Divide o dataset em dois conjuntos (treinamento e validação) com uma proporção de 80% para treino e 20% para validação.\n",
        "\n",
        "* random_state=42: Garante que a divisão seja a mesma toda vez que o código for executado."
      ],
      "metadata": {
        "id": "AXbQIDcG4ngq"
      }
    },
    {
      "cell_type": "code",
      "source": [
        "from sklearn.model_selection import train_test_split\n",
        "\n",
        "\n",
        "labels = np.array([0 if 'normal' in img else 1 for img in image_files])\n",
        "\n",
        "X_train, X_val, y_train, y_val = train_test_split(image_data, labels, test_size=0.2, random_state=42)\n",
        "\n",
        "print(f\"Imagens de treino: {X_train.shape}, Rótulos de treino: {y_train.shape}\")\n",
        "print(f\"Imagens de validação: {X_val.shape}, Rótulos de validação: {y_val.shape}\")\n"
      ],
      "metadata": {
        "colab": {
          "base_uri": "https://localhost:8080/"
        },
        "id": "FvSytL_p4_9t",
        "outputId": "9295a259-2f83-4df5-bbf5-4e4d03adbd14"
      },
      "execution_count": null,
      "outputs": [
        {
          "output_type": "stream",
          "name": "stdout",
          "text": [
            "Imagens de treino: (80, 224, 224, 3), Rótulos de treino: (80,)\n",
            "Imagens de validação: (20, 224, 224, 3), Rótulos de validação: (20,)\n"
          ]
        }
      ]
    },
    {
      "cell_type": "markdown",
      "source": [
        "# **6. Criar o Modelo de Classificação**\n",
        "Construímos um modelo de rede neural convolucional (CNN) para classificar as imagens com base nos dados de entrada.\n",
        "\n",
        "* Camadas Conv2D e MaxPooling2D: Extraem características das imagens. As camadas de pooling reduzem a dimensionalidade.\n",
        "\n",
        "* Flatten(): Achata a saída da camada convolucional para uma única dimensão, tornando-a adequada para a camada densa.\n",
        "\n",
        "* Dense(): Cria camadas densas para classificação.\n",
        "\n",
        "* Dropout(): Previne o overfitting, desligando aleatoriamente neurônios durante o treinamento.\n",
        "\n",
        "* Sigmoid(): Ativação final para classificação binária (0 ou 1)."
      ],
      "metadata": {
        "id": "-b3CO8C-5Efd"
      }
    },
    {
      "cell_type": "code",
      "source": [
        "from tensorflow.keras.models import Sequential\n",
        "from tensorflow.keras.layers import Conv2D, MaxPooling2D, Flatten, Dense, Dropout\n",
        "\n",
        "# Criando o modelo de classificação\n",
        "model = Sequential()\n",
        "\n",
        "model.add(Conv2D(32, (3, 3), activation='relu', input_shape=(224, 224, 3)))\n",
        "model.add(MaxPooling2D((2, 2)))\n",
        "\n",
        "model.add(Conv2D(64, (3, 3), activation='relu'))\n",
        "model.add(MaxPooling2D((2, 2)))\n",
        "\n",
        "model.add(Flatten())\n",
        "model.add(Dense(128, activation='relu'))\n",
        "model.add(Dropout(0.5))\n",
        "model.add(Dense(1, activation='sigmoid'))  # Para classificação binária\n",
        "\n",
        "# Compilando o modelo\n",
        "model.compile(optimizer='adam', loss='binary_crossentropy', metrics=['accuracy'])\n",
        "\n",
        "# Resumo do modelo\n",
        "model.summary()\n"
      ],
      "metadata": {
        "colab": {
          "base_uri": "https://localhost:8080/",
          "height": 463
        },
        "id": "MWSRQtuu5MOL",
        "outputId": "48d021b4-8017-437c-f91b-997ffe761ccc"
      },
      "execution_count": null,
      "outputs": [
        {
          "output_type": "stream",
          "name": "stderr",
          "text": [
            "/usr/local/lib/python3.10/dist-packages/keras/src/layers/convolutional/base_conv.py:107: UserWarning: Do not pass an `input_shape`/`input_dim` argument to a layer. When using Sequential models, prefer using an `Input(shape)` object as the first layer in the model instead.\n",
            "  super().__init__(activity_regularizer=activity_regularizer, **kwargs)\n"
          ]
        },
        {
          "output_type": "display_data",
          "data": {
            "text/plain": [
              "\u001b[1mModel: \"sequential\"\u001b[0m\n"
            ],
            "text/html": [
              "<pre style=\"white-space:pre;overflow-x:auto;line-height:normal;font-family:Menlo,'DejaVu Sans Mono',consolas,'Courier New',monospace\"><span style=\"font-weight: bold\">Model: \"sequential\"</span>\n",
              "</pre>\n"
            ]
          },
          "metadata": {}
        },
        {
          "output_type": "display_data",
          "data": {
            "text/plain": [
              "┏━━━━━━━━━━━━━━━━━━━━━━━━━━━━━━━━━━━━━━┳━━━━━━━━━━━━━━━━━━━━━━━━━━━━━┳━━━━━━━━━━━━━━━━━┓\n",
              "┃\u001b[1m \u001b[0m\u001b[1mLayer (type)                        \u001b[0m\u001b[1m \u001b[0m┃\u001b[1m \u001b[0m\u001b[1mOutput Shape               \u001b[0m\u001b[1m \u001b[0m┃\u001b[1m \u001b[0m\u001b[1m        Param #\u001b[0m\u001b[1m \u001b[0m┃\n",
              "┡━━━━━━━━━━━━━━━━━━━━━━━━━━━━━━━━━━━━━━╇━━━━━━━━━━━━━━━━━━━━━━━━━━━━━╇━━━━━━━━━━━━━━━━━┩\n",
              "│ conv2d (\u001b[38;5;33mConv2D\u001b[0m)                      │ (\u001b[38;5;45mNone\u001b[0m, \u001b[38;5;34m222\u001b[0m, \u001b[38;5;34m222\u001b[0m, \u001b[38;5;34m32\u001b[0m)        │             \u001b[38;5;34m896\u001b[0m │\n",
              "├──────────────────────────────────────┼─────────────────────────────┼─────────────────┤\n",
              "│ max_pooling2d (\u001b[38;5;33mMaxPooling2D\u001b[0m)         │ (\u001b[38;5;45mNone\u001b[0m, \u001b[38;5;34m111\u001b[0m, \u001b[38;5;34m111\u001b[0m, \u001b[38;5;34m32\u001b[0m)        │               \u001b[38;5;34m0\u001b[0m │\n",
              "├──────────────────────────────────────┼─────────────────────────────┼─────────────────┤\n",
              "│ conv2d_1 (\u001b[38;5;33mConv2D\u001b[0m)                    │ (\u001b[38;5;45mNone\u001b[0m, \u001b[38;5;34m109\u001b[0m, \u001b[38;5;34m109\u001b[0m, \u001b[38;5;34m64\u001b[0m)        │          \u001b[38;5;34m18,496\u001b[0m │\n",
              "├──────────────────────────────────────┼─────────────────────────────┼─────────────────┤\n",
              "│ max_pooling2d_1 (\u001b[38;5;33mMaxPooling2D\u001b[0m)       │ (\u001b[38;5;45mNone\u001b[0m, \u001b[38;5;34m54\u001b[0m, \u001b[38;5;34m54\u001b[0m, \u001b[38;5;34m64\u001b[0m)          │               \u001b[38;5;34m0\u001b[0m │\n",
              "├──────────────────────────────────────┼─────────────────────────────┼─────────────────┤\n",
              "│ flatten (\u001b[38;5;33mFlatten\u001b[0m)                    │ (\u001b[38;5;45mNone\u001b[0m, \u001b[38;5;34m186624\u001b[0m)              │               \u001b[38;5;34m0\u001b[0m │\n",
              "├──────────────────────────────────────┼─────────────────────────────┼─────────────────┤\n",
              "│ dense (\u001b[38;5;33mDense\u001b[0m)                        │ (\u001b[38;5;45mNone\u001b[0m, \u001b[38;5;34m128\u001b[0m)                 │      \u001b[38;5;34m23,888,000\u001b[0m │\n",
              "├──────────────────────────────────────┼─────────────────────────────┼─────────────────┤\n",
              "│ dropout (\u001b[38;5;33mDropout\u001b[0m)                    │ (\u001b[38;5;45mNone\u001b[0m, \u001b[38;5;34m128\u001b[0m)                 │               \u001b[38;5;34m0\u001b[0m │\n",
              "├──────────────────────────────────────┼─────────────────────────────┼─────────────────┤\n",
              "│ dense_1 (\u001b[38;5;33mDense\u001b[0m)                      │ (\u001b[38;5;45mNone\u001b[0m, \u001b[38;5;34m1\u001b[0m)                   │             \u001b[38;5;34m129\u001b[0m │\n",
              "└──────────────────────────────────────┴─────────────────────────────┴─────────────────┘\n"
            ],
            "text/html": [
              "<pre style=\"white-space:pre;overflow-x:auto;line-height:normal;font-family:Menlo,'DejaVu Sans Mono',consolas,'Courier New',monospace\">┏━━━━━━━━━━━━━━━━━━━━━━━━━━━━━━━━━━━━━━┳━━━━━━━━━━━━━━━━━━━━━━━━━━━━━┳━━━━━━━━━━━━━━━━━┓\n",
              "┃<span style=\"font-weight: bold\"> Layer (type)                         </span>┃<span style=\"font-weight: bold\"> Output Shape                </span>┃<span style=\"font-weight: bold\">         Param # </span>┃\n",
              "┡━━━━━━━━━━━━━━━━━━━━━━━━━━━━━━━━━━━━━━╇━━━━━━━━━━━━━━━━━━━━━━━━━━━━━╇━━━━━━━━━━━━━━━━━┩\n",
              "│ conv2d (<span style=\"color: #0087ff; text-decoration-color: #0087ff\">Conv2D</span>)                      │ (<span style=\"color: #00d7ff; text-decoration-color: #00d7ff\">None</span>, <span style=\"color: #00af00; text-decoration-color: #00af00\">222</span>, <span style=\"color: #00af00; text-decoration-color: #00af00\">222</span>, <span style=\"color: #00af00; text-decoration-color: #00af00\">32</span>)        │             <span style=\"color: #00af00; text-decoration-color: #00af00\">896</span> │\n",
              "├──────────────────────────────────────┼─────────────────────────────┼─────────────────┤\n",
              "│ max_pooling2d (<span style=\"color: #0087ff; text-decoration-color: #0087ff\">MaxPooling2D</span>)         │ (<span style=\"color: #00d7ff; text-decoration-color: #00d7ff\">None</span>, <span style=\"color: #00af00; text-decoration-color: #00af00\">111</span>, <span style=\"color: #00af00; text-decoration-color: #00af00\">111</span>, <span style=\"color: #00af00; text-decoration-color: #00af00\">32</span>)        │               <span style=\"color: #00af00; text-decoration-color: #00af00\">0</span> │\n",
              "├──────────────────────────────────────┼─────────────────────────────┼─────────────────┤\n",
              "│ conv2d_1 (<span style=\"color: #0087ff; text-decoration-color: #0087ff\">Conv2D</span>)                    │ (<span style=\"color: #00d7ff; text-decoration-color: #00d7ff\">None</span>, <span style=\"color: #00af00; text-decoration-color: #00af00\">109</span>, <span style=\"color: #00af00; text-decoration-color: #00af00\">109</span>, <span style=\"color: #00af00; text-decoration-color: #00af00\">64</span>)        │          <span style=\"color: #00af00; text-decoration-color: #00af00\">18,496</span> │\n",
              "├──────────────────────────────────────┼─────────────────────────────┼─────────────────┤\n",
              "│ max_pooling2d_1 (<span style=\"color: #0087ff; text-decoration-color: #0087ff\">MaxPooling2D</span>)       │ (<span style=\"color: #00d7ff; text-decoration-color: #00d7ff\">None</span>, <span style=\"color: #00af00; text-decoration-color: #00af00\">54</span>, <span style=\"color: #00af00; text-decoration-color: #00af00\">54</span>, <span style=\"color: #00af00; text-decoration-color: #00af00\">64</span>)          │               <span style=\"color: #00af00; text-decoration-color: #00af00\">0</span> │\n",
              "├──────────────────────────────────────┼─────────────────────────────┼─────────────────┤\n",
              "│ flatten (<span style=\"color: #0087ff; text-decoration-color: #0087ff\">Flatten</span>)                    │ (<span style=\"color: #00d7ff; text-decoration-color: #00d7ff\">None</span>, <span style=\"color: #00af00; text-decoration-color: #00af00\">186624</span>)              │               <span style=\"color: #00af00; text-decoration-color: #00af00\">0</span> │\n",
              "├──────────────────────────────────────┼─────────────────────────────┼─────────────────┤\n",
              "│ dense (<span style=\"color: #0087ff; text-decoration-color: #0087ff\">Dense</span>)                        │ (<span style=\"color: #00d7ff; text-decoration-color: #00d7ff\">None</span>, <span style=\"color: #00af00; text-decoration-color: #00af00\">128</span>)                 │      <span style=\"color: #00af00; text-decoration-color: #00af00\">23,888,000</span> │\n",
              "├──────────────────────────────────────┼─────────────────────────────┼─────────────────┤\n",
              "│ dropout (<span style=\"color: #0087ff; text-decoration-color: #0087ff\">Dropout</span>)                    │ (<span style=\"color: #00d7ff; text-decoration-color: #00d7ff\">None</span>, <span style=\"color: #00af00; text-decoration-color: #00af00\">128</span>)                 │               <span style=\"color: #00af00; text-decoration-color: #00af00\">0</span> │\n",
              "├──────────────────────────────────────┼─────────────────────────────┼─────────────────┤\n",
              "│ dense_1 (<span style=\"color: #0087ff; text-decoration-color: #0087ff\">Dense</span>)                      │ (<span style=\"color: #00d7ff; text-decoration-color: #00d7ff\">None</span>, <span style=\"color: #00af00; text-decoration-color: #00af00\">1</span>)                   │             <span style=\"color: #00af00; text-decoration-color: #00af00\">129</span> │\n",
              "└──────────────────────────────────────┴─────────────────────────────┴─────────────────┘\n",
              "</pre>\n"
            ]
          },
          "metadata": {}
        },
        {
          "output_type": "display_data",
          "data": {
            "text/plain": [
              "\u001b[1m Total params: \u001b[0m\u001b[38;5;34m23,907,521\u001b[0m (91.20 MB)\n"
            ],
            "text/html": [
              "<pre style=\"white-space:pre;overflow-x:auto;line-height:normal;font-family:Menlo,'DejaVu Sans Mono',consolas,'Courier New',monospace\"><span style=\"font-weight: bold\"> Total params: </span><span style=\"color: #00af00; text-decoration-color: #00af00\">23,907,521</span> (91.20 MB)\n",
              "</pre>\n"
            ]
          },
          "metadata": {}
        },
        {
          "output_type": "display_data",
          "data": {
            "text/plain": [
              "\u001b[1m Trainable params: \u001b[0m\u001b[38;5;34m23,907,521\u001b[0m (91.20 MB)\n"
            ],
            "text/html": [
              "<pre style=\"white-space:pre;overflow-x:auto;line-height:normal;font-family:Menlo,'DejaVu Sans Mono',consolas,'Courier New',monospace\"><span style=\"font-weight: bold\"> Trainable params: </span><span style=\"color: #00af00; text-decoration-color: #00af00\">23,907,521</span> (91.20 MB)\n",
              "</pre>\n"
            ]
          },
          "metadata": {}
        },
        {
          "output_type": "display_data",
          "data": {
            "text/plain": [
              "\u001b[1m Non-trainable params: \u001b[0m\u001b[38;5;34m0\u001b[0m (0.00 B)\n"
            ],
            "text/html": [
              "<pre style=\"white-space:pre;overflow-x:auto;line-height:normal;font-family:Menlo,'DejaVu Sans Mono',consolas,'Courier New',monospace\"><span style=\"font-weight: bold\"> Non-trainable params: </span><span style=\"color: #00af00; text-decoration-color: #00af00\">0</span> (0.00 B)\n",
              "</pre>\n"
            ]
          },
          "metadata": {}
        }
      ]
    },
    {
      "cell_type": "markdown",
      "source": [
        "* layer: Inclui camadas de convolução, pooling, flatten (achatamento), e camadas densas (fully connected), além de dropout para evitar overfitting.\n",
        "\n",
        "* Output Shape: Mostra as dimensões da saída de cada camada.\n",
        "\n",
        "\n",
        "* Parâmetros treináveis: Exibe o número de parâmetros (pesos e biases) que são ajustados durante o treinamento."
      ],
      "metadata": {
        "id": "qsNrVEzrUI8b"
      }
    },
    {
      "cell_type": "markdown",
      "source": [
        "# **7. Treinar o Modelo**\n",
        "\n",
        "Treinamos o modelo com os dados de treino e validamos o desempenho durante o processo.\n",
        "\n",
        "* model.fit(): Executa o treinamento do modelo por 10 épocas, usando o conjunto de validação para medir a performance em cada época."
      ],
      "metadata": {
        "id": "rEGRGsn35wCb"
      }
    },
    {
      "cell_type": "code",
      "source": [
        "# Treinando o modelo\n",
        "treinamento = model.fit(X_train, y_train, epochs=10, validation_data=(X_val, y_val))\n"
      ],
      "metadata": {
        "id": "yqan3eEz56xz",
        "colab": {
          "base_uri": "https://localhost:8080/"
        },
        "outputId": "c809192c-075a-41e9-c28a-525f97275570"
      },
      "execution_count": null,
      "outputs": [
        {
          "output_type": "stream",
          "name": "stdout",
          "text": [
            "Epoch 1/10\n",
            "\u001b[1m3/3\u001b[0m \u001b[32m━━━━━━━━━━━━━━━━━━━━\u001b[0m\u001b[37m\u001b[0m \u001b[1m12s\u001b[0m 4s/step - accuracy: 0.8383 - loss: 0.3776 - val_accuracy: 1.0000 - val_loss: 0.0000e+00\n",
            "Epoch 2/10\n",
            "\u001b[1m3/3\u001b[0m \u001b[32m━━━━━━━━━━━━━━━━━━━━\u001b[0m\u001b[37m\u001b[0m \u001b[1m17s\u001b[0m 2s/step - accuracy: 1.0000 - loss: 2.5911e-35 - val_accuracy: 1.0000 - val_loss: 0.0000e+00\n",
            "Epoch 3/10\n",
            "\u001b[1m3/3\u001b[0m \u001b[32m━━━━━━━━━━━━━━━━━━━━\u001b[0m\u001b[37m\u001b[0m \u001b[1m9s\u001b[0m 3s/step - accuracy: 1.0000 - loss: 5.7562e-38 - val_accuracy: 1.0000 - val_loss: 0.0000e+00\n",
            "Epoch 4/10\n",
            "\u001b[1m3/3\u001b[0m \u001b[32m━━━━━━━━━━━━━━━━━━━━\u001b[0m\u001b[37m\u001b[0m \u001b[1m10s\u001b[0m 3s/step - accuracy: 1.0000 - loss: 0.0000e+00 - val_accuracy: 1.0000 - val_loss: 0.0000e+00\n",
            "Epoch 5/10\n",
            "\u001b[1m3/3\u001b[0m \u001b[32m━━━━━━━━━━━━━━━━━━━━\u001b[0m\u001b[37m\u001b[0m \u001b[1m7s\u001b[0m 2s/step - accuracy: 1.0000 - loss: 0.0000e+00 - val_accuracy: 1.0000 - val_loss: 0.0000e+00\n",
            "Epoch 6/10\n",
            "\u001b[1m3/3\u001b[0m \u001b[32m━━━━━━━━━━━━━━━━━━━━\u001b[0m\u001b[37m\u001b[0m \u001b[1m12s\u001b[0m 2s/step - accuracy: 1.0000 - loss: 0.0000e+00 - val_accuracy: 1.0000 - val_loss: 0.0000e+00\n",
            "Epoch 7/10\n",
            "\u001b[1m3/3\u001b[0m \u001b[32m━━━━━━━━━━━━━━━━━━━━\u001b[0m\u001b[37m\u001b[0m \u001b[1m10s\u001b[0m 3s/step - accuracy: 1.0000 - loss: 0.0000e+00 - val_accuracy: 1.0000 - val_loss: 0.0000e+00\n",
            "Epoch 8/10\n",
            "\u001b[1m3/3\u001b[0m \u001b[32m━━━━━━━━━━━━━━━━━━━━\u001b[0m\u001b[37m\u001b[0m \u001b[1m7s\u001b[0m 2s/step - accuracy: 1.0000 - loss: 0.0000e+00 - val_accuracy: 1.0000 - val_loss: 0.0000e+00\n",
            "Epoch 9/10\n",
            "\u001b[1m3/3\u001b[0m \u001b[32m━━━━━━━━━━━━━━━━━━━━\u001b[0m\u001b[37m\u001b[0m \u001b[1m12s\u001b[0m 2s/step - accuracy: 1.0000 - loss: 0.0000e+00 - val_accuracy: 1.0000 - val_loss: 0.0000e+00\n",
            "Epoch 10/10\n",
            "\u001b[1m3/3\u001b[0m \u001b[32m━━━━━━━━━━━━━━━━━━━━\u001b[0m\u001b[37m\u001b[0m \u001b[1m8s\u001b[0m 3s/step - accuracy: 1.0000 - loss: 0.0000e+00 - val_accuracy: 1.0000 - val_loss: 0.0000e+00\n"
          ]
        }
      ]
    },
    {
      "cell_type": "markdown",
      "source": [
        "# **8. Avaliar o Modelo**\n",
        "Avaliamos o modelo nos dados de validação para ver quão bem ele generaliza os dados que não foram vistos durante o treinamento.\n",
        "\n",
        "* model.evaluate(): Avalia o desempenho do modelo usando os dados de validação.\n",
        "* accuracy: Mede a precisão do modelo."
      ],
      "metadata": {
        "id": "Cx-GnxtJ6Kyj"
      }
    },
    {
      "cell_type": "code",
      "source": [
        "# Avaliar o modelo no conjunto de validação\n",
        "loss, accuracy = model.evaluate(X_val, y_val)\n",
        "print(f\"Acurácia no conjunto de validação: {accuracy:.2f}\")\n"
      ],
      "metadata": {
        "colab": {
          "base_uri": "https://localhost:8080/"
        },
        "id": "ESX_LvVS6eoV",
        "outputId": "d630c3e8-dff9-4fb0-e334-b78a5cf13049"
      },
      "execution_count": null,
      "outputs": [
        {
          "output_type": "stream",
          "name": "stdout",
          "text": [
            "\u001b[1m1/1\u001b[0m \u001b[32m━━━━━━━━━━━━━━━━━━━━\u001b[0m\u001b[37m\u001b[0m \u001b[1m1s\u001b[0m 803ms/step - accuracy: 1.0000 - loss: 0.0000e+00\n",
            "Acurácia no conjunto de validação: 1.00\n"
          ]
        }
      ]
    },
    {
      "cell_type": "markdown",
      "source": [
        "# **9. Visualizar o Desempenho**\n",
        "\n",
        "Visualizamos as métricas de desempenho (como acurácia) ao longo das épocas de treinamento.\n",
        "\n",
        "* history.history['accuracy']: Acurácia obtida ao longo das épocas no conjunto de treino.\n",
        "\n",
        "* history.history['val_accuracy']: Acurácia obtida no conjunto de validação."
      ],
      "metadata": {
        "id": "5oScd_9K83v7"
      }
    },
    {
      "cell_type": "code",
      "source": [
        "import matplotlib.pyplot as plt\n",
        "\n",
        "# Plotar a acurácia e perda ao longo do treinamento\n",
        "plt.plot(treinamento.history['accuracy'], label='Acurácia de Treinamento')\n",
        "plt.plot(treinamento.history['val_accuracy'], label='Acurácia de Validação')\n",
        "plt.xlabel('Época')\n",
        "plt.ylabel('Acurácia')\n",
        "plt.legend()\n",
        "plt.show()\n"
      ],
      "metadata": {
        "colab": {
          "base_uri": "https://localhost:8080/",
          "height": 451
        },
        "id": "FyHCHk6W9A69",
        "outputId": "efb49c61-3988-4f69-e70d-0c9d068e91eb"
      },
      "execution_count": null,
      "outputs": [
        {
          "output_type": "display_data",
          "data": {
            "text/plain": [
              "<Figure size 640x480 with 1 Axes>"
            ],
            "image/png": "[encoded data removed]"
          },
          "metadata": {}
        }
      ]
    },
    {
      "cell_type": "markdown",
      "source": [
        "# **O gráfico de desempenho geralmente exibe duas métricas principais:**\n",
        "Acurácia (Accuracy):\n",
        "\n",
        "Linha de Acurácia de Treinamento: Representa o quão bem o modelo está aprendendo ao longo das épocas (iterações) no conjunto de dados de treinamento.\n",
        "Linha de Acurácia de Validação: Representa o desempenho do modelo ao aplicar o que aprendeu no conjunto de validação, que são dados separados do treinamento.\n",
        "Análise:\n",
        "\n",
        "Se ambas as curvas (treinamento e validação) sobem de maneira estável, isso indica que o modelo está aprendendo de forma eficiente.\n",
        "Se a curva de validação começa a estagnar ou cair enquanto a curva de treinamento continua subindo, isso pode ser um sinal de overfitting, o que significa que o modelo está aprendendo a se ajustar muito bem ao conjunto de treinamento, mas tem dificuldade em generalizar para novos dados.\n",
        "Perda (Loss):\n",
        "\n",
        "Não aparece na célula que mostrei anteriormente, mas normalmente é plotado junto com a acurácia. A perda mede o quão \"ruins\" as previsões do modelo são. Quanto menor a perda, melhor o modelo está se saindo.\n",
        "\n",
        "Perda de Treinamento: Mostra a perda (erro) do modelo no conjunto de dados de treinamento ao longo das épocas.\n",
        "\n",
        "Perda de Validação: Mostra a perda no conjunto de validação, ou seja, o erro do modelo ao prever exemplos que ele não viu durante o treinamento.\n"
      ],
      "metadata": {
        "id": "hMjUZ1yL9jLs"
      }
    },
    {
      "cell_type": "code",
      "source": [],
      "metadata": {
        "id": "ZVF1AkRz9tnc"
      },
      "execution_count": null,
      "outputs": []
    }
  ]
}